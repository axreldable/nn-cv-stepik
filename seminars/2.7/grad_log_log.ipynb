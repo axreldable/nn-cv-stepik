{
 "cells": [
  {
   "cell_type": "code",
   "execution_count": 2,
   "outputs": [
    {
     "name": "stdout",
     "text": [
      "tensor([[0.0201, 0.0109],\n        [0.0449, 0.0351]]) <- gradient\n"
     ],
     "output_type": "stream"
    }
   ],
   "source": [
    "import torch\n",
    "\n",
    "w = torch.tensor(\n",
    "    [[5.,  10.],\n",
    "     [1.,  2.]], requires_grad=True)\n",
    "\n",
    "\n",
    "#######\n",
    "device = torch.device('cuda:0' \n",
    "                      if torch.cuda.is_available() \n",
    "                      else 'cpu')\n",
    "w = w.to(device)\n",
    "#######\n",
    "\n",
    "function = torch.prod(torch.log(torch.log(w + 7)))\n",
    "\n",
    "function.backward()\n",
    "\n",
    "print(w.grad, '<- gradient')\n",
    "\n"
   ],
   "metadata": {
    "collapsed": false,
    "pycharm": {
     "name": "#%%\n",
     "is_executing": false
    }
   }
  }
 ],
 "metadata": {
  "language_info": {
   "codemirror_mode": {
    "name": "ipython",
    "version": 2
   },
   "file_extension": ".py",
   "mimetype": "text/x-python",
   "name": "python",
   "nbconvert_exporter": "python",
   "pygments_lexer": "ipython2",
   "version": "2.7.6"
  },
  "kernelspec": {
   "name": "pycharm-fd06b89b",
   "language": "python",
   "display_name": "PyCharm (nn-cv-stepik)"
  },
  "pycharm": {
   "stem_cell": {
    "cell_type": "raw",
    "source": [],
    "metadata": {
     "collapsed": false
    }
   }
  }
 },
 "nbformat": 4,
 "nbformat_minor": 0
}